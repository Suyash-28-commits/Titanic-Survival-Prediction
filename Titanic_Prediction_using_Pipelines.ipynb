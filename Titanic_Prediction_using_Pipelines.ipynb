{
  "nbformat": 4,
  "nbformat_minor": 0,
  "metadata": {
    "colab": {
      "provenance": [],
      "authorship_tag": "ABX9TyOQMY0pOMQrK9n93jTZUTYh",
      "include_colab_link": true
    },
    "kernelspec": {
      "name": "python3",
      "display_name": "Python 3"
    },
    "language_info": {
      "name": "python"
    }
  },
  "cells": [
    {
      "cell_type": "markdown",
      "metadata": {
        "id": "view-in-github",
        "colab_type": "text"
      },
      "source": [
        "<a href=\"https://colab.research.google.com/github/Suyash-28-commits/Titanic-Survival-Prediction/blob/main/Titanic_Prediction_using_Pipelines.ipynb\" target=\"_parent\"><img src=\"https://colab.research.google.com/assets/colab-badge.svg\" alt=\"Open In Colab\"/></a>"
      ]
    },
    {
      "cell_type": "code",
      "execution_count": 1,
      "metadata": {
        "colab": {
          "base_uri": "https://localhost:8080/"
        },
        "id": "1Nl3PPW7-xBy",
        "outputId": "96295cfe-b63e-4bad-828d-3d3ee834ee25"
      },
      "outputs": [
        {
          "output_type": "stream",
          "name": "stdout",
          "text": [
            "Mounted at /content/drive\n"
          ]
        }
      ],
      "source": [
        "from google.colab import drive\n",
        "drive.mount('/content/drive')"
      ]
    },
    {
      "cell_type": "code",
      "source": [
        "import pickle\n",
        "import numpy as np"
      ],
      "metadata": {
        "id": "pb8OK6cY_NPQ"
      },
      "execution_count": null,
      "outputs": []
    },
    {
      "cell_type": "code",
      "source": [
        "pipe = pickle.load(open('/content/drive/MyDrive/pipeline.pkl','rb'))"
      ],
      "metadata": {
        "id": "HwjSjP2p_6P8"
      },
      "execution_count": null,
      "outputs": []
    },
    {
      "cell_type": "code",
      "source": [
        "#Assumed user input\n",
        "test_input = np.array([2,'male',31.0,0,0,10.5,'S'],dtype=object).reshape(1,7)"
      ],
      "metadata": {
        "id": "IhJaLGPVAYGY"
      },
      "execution_count": null,
      "outputs": []
    },
    {
      "cell_type": "code",
      "source": [
        "pipe.predict(test_input)"
      ],
      "metadata": {
        "colab": {
          "base_uri": "https://localhost:8080/"
        },
        "id": "N4LnQA5BArdc",
        "outputId": "3e458568-257c-4b14-9991-29758156431c"
      },
      "execution_count": null,
      "outputs": [
        {
          "output_type": "stream",
          "name": "stderr",
          "text": [
            "/usr/local/lib/python3.12/dist-packages/sklearn/utils/validation.py:2739: UserWarning: X does not have valid feature names, but SimpleImputer was fitted with feature names\n",
            "  warnings.warn(\n",
            "/usr/local/lib/python3.12/dist-packages/sklearn/utils/validation.py:2739: UserWarning: X does not have valid feature names, but SimpleImputer was fitted with feature names\n",
            "  warnings.warn(\n"
          ]
        },
        {
          "output_type": "execute_result",
          "data": {
            "text/plain": [
              "array([0])"
            ]
          },
          "metadata": {},
          "execution_count": 15
        }
      ]
    },
    {
      "cell_type": "code",
      "source": [
        "import json\n",
        "\n",
        "# Path to the notebook you want to fix\n",
        "file_path = \"/content/drive/MyDrive/Colab Notebooks/Titanic Prediction using Pipelines.ipynb\"\n",
        "\n",
        "# Load the notebook as a JSON object\n",
        "with open(file_path, \"r\", encoding=\"utf-8\") as f:\n",
        "    notebook_data = json.load(f)\n",
        "\n",
        "# Remove broken widgets from metadata if they exist\n",
        "if \"widgets\" in notebook_data.get(\"metadata\", {}):\n",
        "    print(\"Fixing metadata.widgets...\")\n",
        "    del notebook_data[\"metadata\"][\"widgets\"]\n",
        "\n",
        "# Save the cleaned notebook\n",
        "with open(file_path, \"w\", encoding=\"utf-8\") as f:\n",
        "    json.dump(notebook_data, f, indent=1)\n",
        "\n",
        "print(\"Notebook fixed and saved successfully.\")\n"
      ],
      "metadata": {
        "colab": {
          "base_uri": "https://localhost:8080/"
        },
        "id": "_GmuuJ8BxRu6",
        "outputId": "fff8d880-9daf-4dd5-bc34-b9a9166e181d"
      },
      "execution_count": 2,
      "outputs": [
        {
          "output_type": "stream",
          "name": "stdout",
          "text": [
            "Notebook fixed and saved successfully.\n"
          ]
        }
      ]
    }
  ]
}