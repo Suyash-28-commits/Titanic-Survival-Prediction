{
  "nbformat": 4,
  "nbformat_minor": 0,
  "metadata": {
    "colab": {
      "provenance": [],
      "authorship_tag": "ABX9TyNW78pe0oRjMnUHLZtN6K5Y",
      "include_colab_link": true
    },
    "kernelspec": {
      "name": "python3",
      "display_name": "Python 3"
    },
    "language_info": {
      "name": "python"
    }
  },
  "cells": [
    {
      "cell_type": "markdown",
      "metadata": {
        "id": "view-in-github",
        "colab_type": "text"
      },
      "source": [
        "<a href=\"https://colab.research.google.com/github/Suyash-28-commits/Titanic-Survival-Prediction/blob/main/Prediction_without_using_pipelines.ipynb\" target=\"_parent\"><img src=\"https://colab.research.google.com/assets/colab-badge.svg\" alt=\"Open In Colab\"/></a>"
      ]
    },
    {
      "cell_type": "code",
      "execution_count": 1,
      "metadata": {
        "colab": {
          "base_uri": "https://localhost:8080/"
        },
        "id": "dQxE7PJ9oSUf",
        "outputId": "5e05a6c6-ae2f-41c4-fbde-892d48ad87e4"
      },
      "outputs": [
        {
          "output_type": "stream",
          "name": "stdout",
          "text": [
            "Mounted at /content/drive\n"
          ]
        }
      ],
      "source": [
        "from google.colab import drive\n",
        "drive.mount('/content/drive')"
      ]
    },
    {
      "cell_type": "code",
      "source": [
        "import pickle\n",
        "import numpy as np"
      ],
      "metadata": {
        "id": "_eiTpjbUoq1z"
      },
      "execution_count": null,
      "outputs": []
    },
    {
      "cell_type": "code",
      "source": [
        "ohe_sex= pickle.load(open('/content/drive/MyDrive/models/ohe_sex.pkl','rb'))\n",
        "ohe_embarked = pickle.load(open('/content/drive/MyDrive/models/ohe_embarked.pkl','rb'))\n",
        "dr = pickle.load(open('/content/drive/MyDrive/models/dr.pkl','rb'))"
      ],
      "metadata": {
        "id": "NK1btKAjozCP"
      },
      "execution_count": null,
      "outputs": []
    },
    {
      "cell_type": "code",
      "source": [
        "#Assumed input\n",
        "#Pclass/gender/Age/SibSp/Parch/Fare/Embarked\n",
        "test_input = np.array([2,'male',31.0,0,0,10.5,'S'],dtype=object).reshape(1,7)"
      ],
      "metadata": {
        "id": "JD6FoYJSqi6n"
      },
      "execution_count": null,
      "outputs": []
    },
    {
      "cell_type": "code",
      "source": [
        "test_input_sex = ohe_sex.transform(test_input[:,1].reshape(1,1))"
      ],
      "metadata": {
        "colab": {
          "base_uri": "https://localhost:8080/"
        },
        "id": "UZhzoRMLq1RX",
        "outputId": "0a5443f3-6b86-44e7-aa56-8b42c5afe917"
      },
      "execution_count": null,
      "outputs": [
        {
          "output_type": "stream",
          "name": "stderr",
          "text": [
            "/usr/local/lib/python3.12/dist-packages/sklearn/utils/validation.py:2739: UserWarning: X does not have valid feature names, but OneHotEncoder was fitted with feature names\n",
            "  warnings.warn(\n"
          ]
        }
      ]
    },
    {
      "cell_type": "code",
      "source": [
        "test_input_sex"
      ],
      "metadata": {
        "colab": {
          "base_uri": "https://localhost:8080/"
        },
        "id": "aH9Ttq14seXv",
        "outputId": "48b1c4d8-68b5-4b7d-cbad-8ee1c6b5a1be"
      },
      "execution_count": null,
      "outputs": [
        {
          "output_type": "execute_result",
          "data": {
            "text/plain": [
              "array([[0., 1.]])"
            ]
          },
          "metadata": {},
          "execution_count": 19
        }
      ]
    },
    {
      "cell_type": "code",
      "source": [
        "test_input_embarked = ohe_embarked.transform(test_input[:,-1].reshape(1,1))"
      ],
      "metadata": {
        "id": "O056TkbmsOHz"
      },
      "execution_count": null,
      "outputs": []
    },
    {
      "cell_type": "code",
      "source": [
        "test_input_embarked"
      ],
      "metadata": {
        "colab": {
          "base_uri": "https://localhost:8080/"
        },
        "id": "9cQOoYL9saDL",
        "outputId": "e367ab21-353b-4c26-a2ea-8a7661060e1a"
      },
      "execution_count": null,
      "outputs": [
        {
          "output_type": "execute_result",
          "data": {
            "text/plain": [
              "array([[0., 0., 1.]])"
            ]
          },
          "metadata": {},
          "execution_count": 20
        }
      ]
    },
    {
      "cell_type": "code",
      "source": [
        "test_input_age = test_input[:,2].reshape(1,1)"
      ],
      "metadata": {
        "id": "gvIfqF9jslQ3"
      },
      "execution_count": null,
      "outputs": []
    },
    {
      "cell_type": "code",
      "source": [
        "test_input_transformed = np.concatenate((test_input[:,[0,3,4,5]],test_input_age,test_input_sex,test_input_embarked),axis=1)"
      ],
      "metadata": {
        "id": "xjP44ItntFKo"
      },
      "execution_count": null,
      "outputs": []
    },
    {
      "cell_type": "code",
      "source": [
        "test_input_transformed"
      ],
      "metadata": {
        "colab": {
          "base_uri": "https://localhost:8080/"
        },
        "id": "UjIK0XdVtgxX",
        "outputId": "2e7e970c-8d94-45ee-af7b-515c39d17625"
      },
      "execution_count": null,
      "outputs": [
        {
          "output_type": "execute_result",
          "data": {
            "text/plain": [
              "array([[2, 0, 0, 10.5, 31.0, 0.0, 1.0, 0.0, 0.0, 1.0]], dtype=object)"
            ]
          },
          "metadata": {},
          "execution_count": 23
        }
      ]
    },
    {
      "cell_type": "code",
      "source": [
        "test_input_transformed.shape"
      ],
      "metadata": {
        "colab": {
          "base_uri": "https://localhost:8080/"
        },
        "id": "5jlwOqh4tkR8",
        "outputId": "6a960781-965f-4440-af94-415fc5a48371"
      },
      "execution_count": null,
      "outputs": [
        {
          "output_type": "execute_result",
          "data": {
            "text/plain": [
              "(1, 10)"
            ]
          },
          "metadata": {},
          "execution_count": 24
        }
      ]
    },
    {
      "cell_type": "code",
      "source": [
        "dr.predict(test_input_transformed)"
      ],
      "metadata": {
        "colab": {
          "base_uri": "https://localhost:8080/"
        },
        "id": "D9pTSrIgtxgj",
        "outputId": "725c57b5-db72-462d-c71c-a1c67772ce23"
      },
      "execution_count": null,
      "outputs": [
        {
          "output_type": "execute_result",
          "data": {
            "text/plain": [
              "array([1])"
            ]
          },
          "metadata": {},
          "execution_count": 25
        }
      ]
    },
    {
      "cell_type": "code",
      "source": [
        "import json\n",
        "\n",
        "# Path to the notebook you want to fix\n",
        "file_path = \"/content/drive/MyDrive/Colab Notebooks/Prediction without using pipelines.ipynb\"\n",
        "\n",
        "# Load the notebook as a JSON object\n",
        "with open(file_path, \"r\", encoding=\"utf-8\") as f:\n",
        "    notebook_data = json.load(f)\n",
        "\n",
        "# Remove broken widgets from metadata if they exist\n",
        "if \"widgets\" in notebook_data.get(\"metadata\", {}):\n",
        "    print(\"Fixing metadata.widgets...\")\n",
        "    del notebook_data[\"metadata\"][\"widgets\"]\n",
        "\n",
        "# Save the cleaned notebook\n",
        "with open(file_path, \"w\", encoding=\"utf-8\") as f:\n",
        "    json.dump(notebook_data, f, indent=1)\n",
        "\n",
        "print(\"Notebook fixed and saved successfully.\")\n"
      ],
      "metadata": {
        "colab": {
          "base_uri": "https://localhost:8080/"
        },
        "id": "2DP1EcSOx7fK",
        "outputId": "948f1643-dc58-4626-b14d-a1ad1d1935fa"
      },
      "execution_count": 2,
      "outputs": [
        {
          "output_type": "stream",
          "name": "stdout",
          "text": [
            "Notebook fixed and saved successfully.\n"
          ]
        }
      ]
    }
  ]
}